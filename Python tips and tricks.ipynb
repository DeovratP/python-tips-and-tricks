{
 "cells": [
  {
   "cell_type": "markdown",
   "metadata": {},
   "source": [
    "# Single line condition"
   ]
  },
  {
   "cell_type": "code",
   "execution_count": 4,
   "metadata": {},
   "outputs": [
    {
     "name": "stdout",
     "output_type": "stream",
     "text": [
      "0\n"
     ]
    }
   ],
   "source": [
    "condition = False\n",
    "if condition:\n",
    "    x = 1\n",
    "else:\n",
    "    x = 0\n",
    "print(x)"
   ]
  },
  {
   "cell_type": "code",
   "execution_count": 5,
   "metadata": {},
   "outputs": [
    {
     "name": "stdout",
     "output_type": "stream",
     "text": [
      "0\n"
     ]
    }
   ],
   "source": [
    "condition = False\n",
    "x = 1 if condition else 0\n",
    "print(x)"
   ]
  },
  {
   "cell_type": "markdown",
   "metadata": {},
   "source": [
    "# Underscore placeholder, formatting strings"
   ]
  },
  {
   "cell_type": "code",
   "execution_count": 8,
   "metadata": {},
   "outputs": [
    {
     "name": "stdout",
     "output_type": "stream",
     "text": [
      "1001000000\n"
     ]
    }
   ],
   "source": [
    "num1 = 1_000_000\n",
    "num2 = 1_000_000_000\n",
    "print(num1+num2)"
   ]
  },
  {
   "cell_type": "code",
   "execution_count": 10,
   "metadata": {},
   "outputs": [
    {
     "name": "stdout",
     "output_type": "stream",
     "text": [
      "1,001,000,000\n"
     ]
    }
   ],
   "source": [
    "num1 = 1_000_000\n",
    "num2 = 1_000_000_000\n",
    "print(f'{num1+num2:,}')"
   ]
  },
  {
   "cell_type": "markdown",
   "metadata": {},
   "source": [
    "# Auto vs Manually handling opening and closing files"
   ]
  },
  {
   "cell_type": "code",
   "execution_count": 16,
   "metadata": {},
   "outputs": [
    {
     "name": "stdout",
     "output_type": "stream",
     "text": [
      "1\n"
     ]
    }
   ],
   "source": [
    "f = open('test.txt', 'r')\n",
    "file_contents = f.read()\n",
    "f.close()\n",
    "\n",
    "words = file_contents.split(' ')\n",
    "word_count = len(words)\n",
    "print(word_count)"
   ]
  },
  {
   "cell_type": "code",
   "execution_count": 20,
   "metadata": {},
   "outputs": [
    {
     "name": "stdout",
     "output_type": "stream",
     "text": [
      "1\n"
     ]
    }
   ],
   "source": [
    "with open('test.txt', 'r') as f:\n",
    "    file_contents = f.read()\n",
    "    \n",
    "words = file_contents.split(' ')\n",
    "word_count = len(words)\n",
    "print(word_count)"
   ]
  },
  {
   "cell_type": "markdown",
   "metadata": {},
   "source": [
    "# Iterating over list (using enumerate) "
   ]
  },
  {
   "cell_type": "code",
   "execution_count": 24,
   "metadata": {},
   "outputs": [
    {
     "name": "stdout",
     "output_type": "stream",
     "text": [
      "0 amul\n",
      "1 unilever\n",
      "2 palmolive\n",
      "3 jnj\n"
     ]
    }
   ],
   "source": [
    "names = ['amul', 'unilever', 'palmolive', 'jnj']\n",
    "index = 0\n",
    "for name in names:\n",
    "    print(index, name)\n",
    "    index+=1"
   ]
  },
  {
   "cell_type": "code",
   "execution_count": 25,
   "metadata": {},
   "outputs": [
    {
     "name": "stdout",
     "output_type": "stream",
     "text": [
      "0 amul\n",
      "1 unilever\n",
      "2 palmolive\n",
      "3 jnj\n"
     ]
    }
   ],
   "source": [
    "names = ['amul', 'unilever', 'palmolive', 'jnj']\n",
    "\n",
    "for i, name in enumerate(names):\n",
    "    print(i, name)"
   ]
  },
  {
   "cell_type": "code",
   "execution_count": 29,
   "metadata": {},
   "outputs": [
    {
     "name": "stdout",
     "output_type": "stream",
     "text": [
      "100 amul\n",
      "101 unilever\n",
      "102 palmolive\n",
      "103 jnj\n"
     ]
    }
   ],
   "source": [
    "names = ['amul', 'unilever', 'palmolive', 'jnj']\n",
    "\n",
    "for i, name in enumerate(names, start = 100):\n",
    "    print(i, name)"
   ]
  },
  {
   "cell_type": "code",
   "execution_count": 36,
   "metadata": {},
   "outputs": [
    {
     "name": "stdout",
     "output_type": "stream",
     "text": [
      "amul is a company that makes milk\n",
      "unilever is a company that makes beauty stuff\n",
      "palmolive is a company that makes soap\n",
      "jnj is a company that makes body oils\n"
     ]
    }
   ],
   "source": [
    "names = ['amul', 'unilever', 'palmolive', 'jnj']\n",
    "products = ['milk', 'beauty stuff', 'soap', 'body oils']\n",
    "\n",
    "for index, name in enumerate(names):\n",
    "    product = products[index]\n",
    "    print(f'{name} is a company that makes {product}')"
   ]
  },
  {
   "cell_type": "code",
   "execution_count": 35,
   "metadata": {},
   "outputs": [
    {
     "name": "stdout",
     "output_type": "stream",
     "text": [
      "amul is a company that makes milk\n",
      "unilever is a company that makes beauty stuff\n",
      "palmolive is a company that makes soap\n",
      "jnj is a company that makes body oils\n"
     ]
    }
   ],
   "source": [
    "names = ['amul', 'unilever', 'palmolive', 'jnj']\n",
    "products = ['milk', 'beauty stuff', 'soap', 'body oils']\n",
    "\n",
    "for name, product in zip(names, products):\n",
    "    print(f'{name} is a company that makes {product}')"
   ]
  },
  {
   "cell_type": "code",
   "execution_count": 37,
   "metadata": {},
   "outputs": [
    {
     "name": "stdout",
     "output_type": "stream",
     "text": [
      "amul is a company that makes amazing milk\n",
      "unilever is a company that makes good beauty stuff\n",
      "palmolive is a company that makes best soap\n",
      "jnj is a company that makes okayish body oils\n"
     ]
    }
   ],
   "source": [
    "names = ['amul', 'unilever', 'palmolive', 'jnj']\n",
    "products = ['milk', 'beauty stuff', 'soap', 'body oils']\n",
    "reviews = ['amazing', 'good', 'best', 'okayish']\n",
    "\n",
    "for name, review, product in zip(names, reviews, products):\n",
    "    print(f'{name} is a company that makes {review} {product}')"
   ]
  },
  {
   "cell_type": "code",
   "execution_count": 39,
   "metadata": {},
   "outputs": [
    {
     "name": "stdout",
     "output_type": "stream",
     "text": [
      "('amul', 'amazing', 'milk')\n",
      "('unilever', 'good', 'beauty stuff')\n",
      "('palmolive', 'best', 'soap')\n",
      "('jnj', 'okayish', 'body oils')\n"
     ]
    }
   ],
   "source": [
    "names = ['amul', 'unilever', 'palmolive', 'jnj']\n",
    "products = ['milk', 'beauty stuff', 'soap', 'body oils']\n",
    "reviews = ['amazing', 'good', 'best', 'okayish']\n",
    "\n",
    "#prints a tuple containing ziped data\n",
    "for value in zip(names, reviews, products):\n",
    "    print(value)"
   ]
  },
  {
   "cell_type": "markdown",
   "metadata": {},
   "source": [
    "# Unpacking"
   ]
  },
  {
   "cell_type": "code",
   "execution_count": 43,
   "metadata": {},
   "outputs": [
    {
     "name": "stdout",
     "output_type": "stream",
     "text": [
      "1\n",
      "2\n",
      "3\n"
     ]
    }
   ],
   "source": [
    "a,b = (1,2)\n",
    "print(a)\n",
    "print(b)\n",
    "\n",
    "c,_ = (3,4)\n",
    "print(c)"
   ]
  },
  {
   "cell_type": "code",
   "execution_count": 48,
   "metadata": {},
   "outputs": [
    {
     "name": "stdout",
     "output_type": "stream",
     "text": [
      "1\n",
      "2\n",
      "[3, 4, 5]\n",
      "6\n",
      "7\n"
     ]
    }
   ],
   "source": [
    "a,b, *c = (1,2,3,4,5)\n",
    "print(a)\n",
    "print(b)\n",
    "print(c)\n",
    "\n",
    "d,e, *_ = (6,7,8,9,10)\n",
    "print(d)\n",
    "print(e)"
   ]
  },
  {
   "cell_type": "code",
   "execution_count": 49,
   "metadata": {},
   "outputs": [
    {
     "name": "stdout",
     "output_type": "stream",
     "text": [
      "1\n",
      "2\n",
      "[3, 4, 5, 6, 7]\n",
      "8\n"
     ]
    }
   ],
   "source": [
    "a,b, *c, d = (1,2,3,4,5,6,7,8)\n",
    "print(a)\n",
    "print(b)\n",
    "print(c)\n",
    "print(d)"
   ]
  },
  {
   "cell_type": "markdown",
   "metadata": {},
   "source": [
    "# Getting and Setting attributes using getattr() and setattr()"
   ]
  },
  {
   "cell_type": "code",
   "execution_count": 52,
   "metadata": {},
   "outputs": [
    {
     "name": "stdout",
     "output_type": "stream",
     "text": [
      "Chakde\n",
      "India\n"
     ]
    }
   ],
   "source": [
    "class Person():\n",
    "    pass\n",
    "\n",
    "person = Person\n",
    "\n",
    "person.first = \"Chakde\"\n",
    "person.last = \"India\"\n",
    "\n",
    "print(person.first)\n",
    "print(person.last)"
   ]
  },
  {
   "cell_type": "code",
   "execution_count": 57,
   "metadata": {},
   "outputs": [
    {
     "name": "stdout",
     "output_type": "stream",
     "text": [
      "Chakde\n"
     ]
    }
   ],
   "source": [
    "class Person():\n",
    "    pass\n",
    "\n",
    "person = Person()\n",
    "\n",
    "first_key = \"first\"\n",
    "first_val = \"Chakde\"\n",
    "\n",
    "setattr(person, first_key, first_val)\n",
    "value = getattr(person, first_key)\n",
    "\n",
    "print(value)\n",
    "# person_info = {'first': 'Chakde', 'last': 'India'}"
   ]
  },
  {
   "cell_type": "markdown",
   "metadata": {},
   "source": [
    "# Getpass"
   ]
  },
  {
   "cell_type": "code",
   "execution_count": 3,
   "metadata": {},
   "outputs": [
    {
     "name": "stdout",
     "output_type": "stream",
     "text": [
      "Username: l\n",
      "Password: ········\n",
      "Logging in\n"
     ]
    }
   ],
   "source": [
    "from getpass import getpass\n",
    "\n",
    "username = input('Username: ')\n",
    "password = getpass('Password: ')\n",
    "\n",
    "print('Logging in')"
   ]
  },
  {
   "cell_type": "code",
   "execution_count": null,
   "metadata": {},
   "outputs": [],
   "source": []
  }
 ],
 "metadata": {
  "kernelspec": {
   "display_name": "Python 3",
   "language": "python",
   "name": "python3"
  },
  "language_info": {
   "codemirror_mode": {
    "name": "ipython",
    "version": 3
   },
   "file_extension": ".py",
   "mimetype": "text/x-python",
   "name": "python",
   "nbconvert_exporter": "python",
   "pygments_lexer": "ipython3",
   "version": "3.8.5"
  }
 },
 "nbformat": 4,
 "nbformat_minor": 4
}
